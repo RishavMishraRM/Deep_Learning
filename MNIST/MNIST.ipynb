{
 "cells": [
  {
   "cell_type": "code",
   "execution_count": 1,
   "metadata": {},
   "outputs": [
    {
     "name": "stdout",
     "output_type": "stream",
     "text": [
      "2.4.1\n"
     ]
    }
   ],
   "source": [
    "import tensorflow as tf\n",
    "print(tf.__version__)"
   ]
  },
  {
   "cell_type": "code",
   "execution_count": 2,
   "metadata": {},
   "outputs": [
    {
     "name": "stderr",
     "output_type": "stream",
     "text": [
      "Using TensorFlow backend.\n"
     ]
    }
   ],
   "source": [
    "import numpy as np\n",
    "import pandas as pd\n",
    "from sklearn import metrics\n",
    "import matplotlib.pyplot as plt\n",
    "%matplotlib inline\n",
    "\n",
    "from tensorflow.keras.datasets import mnist\n",
    "from tensorflow.keras import Sequential\n",
    "from tensorflow.keras.layers import Dense\n",
    "\n",
    "from keras.callbacks import EarlyStopping\n",
    "from keras.layers import BatchNormalization"
   ]
  },
  {
   "cell_type": "code",
   "execution_count": 3,
   "metadata": {},
   "outputs": [],
   "source": [
    "(xtrain, ytrain), (xtest, ytest)=mnist.load_data()"
   ]
  },
  {
   "cell_type": "code",
   "execution_count": 4,
   "metadata": {},
   "outputs": [
    {
     "data": {
      "text/plain": [
       "(60000, 28, 28)"
      ]
     },
     "execution_count": 4,
     "metadata": {},
     "output_type": "execute_result"
    }
   ],
   "source": [
    "xtrain.shape"
   ]
  },
  {
   "cell_type": "code",
   "execution_count": 5,
   "metadata": {},
   "outputs": [
    {
     "data": {
      "text/plain": [
       "<matplotlib.image.AxesImage at 0x289d4c86208>"
      ]
     },
     "execution_count": 5,
     "metadata": {},
     "output_type": "execute_result"
    },
    {
     "data": {
      "image/png": "[encoded data removed]",
      "text/plain": [
       "<Figure size 432x288 with 1 Axes>"
      ]
     },
     "metadata": {
      "needs_background": "light"
     },
     "output_type": "display_data"
    }
   ],
   "source": [
    "plt.imshow(xtrain[1,:,:],cmap='gray')"
   ]
  },
  {
   "cell_type": "code",
   "execution_count": 6,
   "metadata": {},
   "outputs": [
    {
     "data": {
      "text/plain": [
       "<matplotlib.image.AxesImage at 0x289d4d72388>"
      ]
     },
     "execution_count": 6,
     "metadata": {},
     "output_type": "execute_result"
    },
    {
     "data": {
      "image/png": "[encoded data removed]",
      "text/plain": [
       "<Figure size 432x288 with 1 Axes>"
      ]
     },
     "metadata": {
      "needs_background": "light"
     },
     "output_type": "display_data"
    }
   ],
   "source": [
    "plt.imshow(xtrain[0,:,:],cmap='gray')"
   ]
  },
  {
   "cell_type": "code",
   "execution_count": 7,
   "metadata": {},
   "outputs": [
    {
     "data": {
      "text/plain": [
       "array([5, 0, 4, 1, 9, 2, 1, 3, 1, 4, 3, 5, 3, 6, 1, 7, 2, 8, 6, 9, 4, 0,\n",
       "       9, 1, 1, 2, 4, 3, 2, 7, 3, 8, 6, 9, 0, 5, 6, 0, 7, 6, 1, 8, 7, 9,\n",
       "       3, 9, 8, 5, 9, 3], dtype=uint8)"
      ]
     },
     "execution_count": 7,
     "metadata": {},
     "output_type": "execute_result"
    }
   ],
   "source": [
    "ytrain[:50]"
   ]
  },
  {
   "cell_type": "code",
   "execution_count": 8,
   "metadata": {},
   "outputs": [
    {
     "data": {
      "text/plain": [
       "1    6742\n",
       "7    6265\n",
       "3    6131\n",
       "2    5958\n",
       "9    5949\n",
       "0    5923\n",
       "6    5918\n",
       "8    5851\n",
       "4    5842\n",
       "5    5421\n",
       "Name: 0, dtype: int64"
      ]
     },
     "execution_count": 8,
     "metadata": {},
     "output_type": "execute_result"
    }
   ],
   "source": [
    "L = pd.DataFrame(ytrain)\n",
    "L[0].value_counts()"
   ]
  },
  {
   "cell_type": "code",
   "execution_count": 9,
   "metadata": {},
   "outputs": [],
   "source": [
    "x_train=xtrain.reshape(xtrain.shape[0],784).astype('float32')\n",
    "x_test=xtest.reshape(xtest.shape[0],784).astype('float32')"
   ]
  },
  {
   "cell_type": "code",
   "execution_count": 10,
   "metadata": {},
   "outputs": [
    {
     "data": {
      "text/plain": [
       "(10000, 784)"
      ]
     },
     "execution_count": 10,
     "metadata": {},
     "output_type": "execute_result"
    }
   ],
   "source": [
    "x_test.shape"
   ]
  },
  {
   "cell_type": "code",
   "execution_count": 11,
   "metadata": {},
   "outputs": [],
   "source": [
    "x_train/=255\n",
    "x_test/=255"
   ]
  },
  {
   "cell_type": "code",
   "execution_count": 12,
   "metadata": {},
   "outputs": [],
   "source": [
    "from tensorflow import keras\n",
    "\n",
    "y_train = keras.utils.to_categorical(ytrain, 10)\n",
    "y_test = keras.utils.to_categorical(ytest, 10)"
   ]
  },
  {
   "cell_type": "code",
   "execution_count": 13,
   "metadata": {},
   "outputs": [],
   "source": [
    "#Initialize the constructor\n",
    "model = Sequential()\n",
    "#Define model architecture\n",
    "model.add(Dense(784, activation='relu'))\n",
    "model.add(Dense(100, activation='relu'))\n",
    "model.add(Dense(10, activation='softmax'))"
   ]
  },
  {
   "cell_type": "code",
   "execution_count": 14,
   "metadata": {},
   "outputs": [],
   "source": [
    "model.compile(loss='categorical_crossentropy',optimizer='adam',metrics=['accuracy'])"
   ]
  },
  {
   "cell_type": "code",
   "execution_count": 15,
   "metadata": {},
   "outputs": [],
   "source": [
    "epochs = 20\n",
    "batch_size = 512"
   ]
  },
  {
   "cell_type": "code",
   "execution_count": 16,
   "metadata": {},
   "outputs": [
    {
     "name": "stdout",
     "output_type": "stream",
     "text": [
      "Epoch 1/20\n",
      "83/83 [==============================] - 6s 55ms/step - loss: 0.7547 - accuracy: 0.7888 - val_loss: 0.2188 - val_accuracy: 0.9358\n",
      "Epoch 2/20\n",
      "83/83 [==============================] - 3s 42ms/step - loss: 0.1737 - accuracy: 0.9496 - val_loss: 0.1480 - val_accuracy: 0.9549\n",
      "Epoch 3/20\n",
      "83/83 [==============================] - 4s 42ms/step - loss: 0.1054 - accuracy: 0.9688 - val_loss: 0.1187 - val_accuracy: 0.9649\n",
      "Epoch 4/20\n",
      "83/83 [==============================] - 3s 40ms/step - loss: 0.0757 - accuracy: 0.9777 - val_loss: 0.1134 - val_accuracy: 0.9676\n",
      "Epoch 5/20\n",
      "83/83 [==============================] - 3s 39ms/step - loss: 0.0591 - accuracy: 0.9818 - val_loss: 0.0991 - val_accuracy: 0.9704\n",
      "Epoch 6/20\n",
      "83/83 [==============================] - 4s 43ms/step - loss: 0.0652 - accuracy: 0.9799 - val_loss: 0.0987 - val_accuracy: 0.9720\n",
      "Epoch 7/20\n",
      "83/83 [==============================] - 4s 51ms/step - loss: 0.0291 - accuracy: 0.9925 - val_loss: 0.0878 - val_accuracy: 0.9747\n",
      "Epoch 8/20\n",
      "83/83 [==============================] - 3s 40ms/step - loss: 0.0197 - accuracy: 0.9958 - val_loss: 0.0885 - val_accuracy: 0.9750\n",
      "Epoch 9/20\n",
      "83/83 [==============================] - 3s 39ms/step - loss: 0.0140 - accuracy: 0.9976 - val_loss: 0.0895 - val_accuracy: 0.9751\n",
      "Epoch 10/20\n",
      "83/83 [==============================] - 3s 39ms/step - loss: 0.0130 - accuracy: 0.9970 - val_loss: 0.0865 - val_accuracy: 0.9763\n",
      "Epoch 11/20\n",
      "83/83 [==============================] - 3s 39ms/step - loss: 0.0077 - accuracy: 0.9988 - val_loss: 0.0930 - val_accuracy: 0.9764\n",
      "Epoch 12/20\n",
      "83/83 [==============================] - 3s 39ms/step - loss: 0.0067 - accuracy: 0.9991 - val_loss: 0.0899 - val_accuracy: 0.9765\n",
      "Epoch 13/20\n",
      "83/83 [==============================] - 3s 39ms/step - loss: 0.0045 - accuracy: 0.9996 - val_loss: 0.0892 - val_accuracy: 0.9772\n",
      "Epoch 14/20\n",
      "83/83 [==============================] - 3s 39ms/step - loss: 0.0030 - accuracy: 0.9999 - val_loss: 0.0919 - val_accuracy: 0.9771\n",
      "Epoch 15/20\n",
      "83/83 [==============================] - 3s 39ms/step - loss: 0.0028 - accuracy: 0.9997 - val_loss: 0.0921 - val_accuracy: 0.9773\n",
      "Epoch 16/20\n",
      "83/83 [==============================] - 3s 39ms/step - loss: 0.0019 - accuracy: 1.0000 - val_loss: 0.0926 - val_accuracy: 0.9776\n",
      "Epoch 17/20\n",
      "83/83 [==============================] - 3s 39ms/step - loss: 0.0015 - accuracy: 1.0000 - val_loss: 0.0929 - val_accuracy: 0.9781\n",
      "Epoch 18/20\n",
      "83/83 [==============================] - 4s 43ms/step - loss: 0.0012 - accuracy: 1.0000 - val_loss: 0.0944 - val_accuracy: 0.9787\n",
      "Epoch 19/20\n",
      "83/83 [==============================] - 4s 42ms/step - loss: 0.0010 - accuracy: 1.0000 - val_loss: 0.0939 - val_accuracy: 0.9781\n",
      "Epoch 20/20\n",
      "83/83 [==============================] - 3s 42ms/step - loss: 8.7699e-04 - accuracy: 1.0000 - val_loss: 0.0957 - val_accuracy: 0.9789\n"
     ]
    }
   ],
   "source": [
    "history = model.fit(x_train, y_train, batch_size= batch_size, epochs=epochs, validation_split = .3, verbose= True)\n",
    "loss, accuracy = model.evaluate(x_test, y_test, verbose=False)"
   ]
  },
  {
   "cell_type": "code",
   "execution_count": 17,
   "metadata": {},
   "outputs": [
    {
     "name": "stdout",
     "output_type": "stream",
     "text": [
      "[0.9357777833938599, 0.9549444317817688, 0.9649444222450256, 0.9676111340522766, 0.9704444408416748, 0.972000002861023, 0.9747222065925598, 0.9750000238418579, 0.9750555753707886, 0.9763333201408386, 0.9764444231987, 0.9764999747276306, 0.9771666526794434, 0.977055549621582, 0.9772777557373047, 0.9775555729866028, 0.9781110882759094, 0.9787222146987915, 0.9781110882759094, 0.9789444208145142]\n",
      "[0.8842856884002686, 0.9542381167411804, 0.9709761738777161, 0.9795476198196411, 0.9842857122421265, 0.9836905002593994, 0.9925476312637329, 0.9957619309425354, 0.9971428513526917, 0.9975714087486267, 0.99871426820755, 0.9992380738258362, 0.9997618794441223, 0.9998095035552979, 0.9998571276664734, 0.9999762177467346, 1.0, 0.9999762177467346, 1.0, 1.0]\n"
     ]
    },
    {
     "data": {
      "text/plain": [
       "<AxesSubplot:>"
      ]
     },
     "execution_count": 17,
     "metadata": {},
     "output_type": "execute_result"
    },
    {
     "data": {
      "image/png": "[encoded data removed]",
      "text/plain": [
       "<Figure size 432x288 with 1 Axes>"
      ]
     },
     "metadata": {
      "needs_background": "light"
     },
     "output_type": "display_data"
    }
   ],
   "source": [
    "print(history.history['val_accuracy'])\n",
    "\n",
    "print(history.history['accuracy'])\n",
    "\n",
    "ta = pd.DataFrame(history.history['accuracy'])\n",
    "va = pd.DataFrame(history.history['val_accuracy'])\n",
    "\n",
    "tva = pd.concat([ta, va], axis=1)\n",
    "\n",
    "tva.boxplot()"
   ]
  },
  {
   "cell_type": "code",
   "execution_count": 18,
   "metadata": {},
   "outputs": [
    {
     "name": "stdout",
     "output_type": "stream",
     "text": [
      "Accuracy = 0.982\n",
      "loss = 0.072\n"
     ]
    }
   ],
   "source": [
    "loss, acc = model.evaluate(x_test, y_test, verbose = 0)\n",
    "print('Accuracy = %.3f'%acc)\n",
    "print('loss = %.3f'%loss)"
   ]
  },
  {
   "cell_type": "code",
   "execution_count": 19,
   "metadata": {},
   "outputs": [],
   "source": [
    "y_predict = model.predict(x_test)"
   ]
  },
  {
   "cell_type": "code",
   "execution_count": 20,
   "metadata": {},
   "outputs": [
    {
     "data": {
      "text/plain": [
       "array([[1.8510007e-10, 1.8778657e-11, 2.9452831e-08, ..., 9.9999547e-01,\n",
       "        1.7875283e-09, 3.8515364e-07],\n",
       "       [1.0986897e-11, 9.1957872e-09, 1.0000000e+00, ..., 4.5382060e-14,\n",
       "        6.1971983e-10, 4.9556089e-17],\n",
       "       [9.2695228e-07, 9.9996126e-01, 8.7181033e-06, ..., 2.0191632e-05,\n",
       "        6.4278843e-06, 1.8416985e-08],\n",
       "       ...,\n",
       "       [9.7222061e-18, 8.7899223e-17, 7.4088582e-18, ..., 2.8275599e-10,\n",
       "        6.2475606e-12, 4.7474464e-09],\n",
       "       [8.0813354e-16, 4.3036523e-17, 4.1278372e-18, ..., 2.4144365e-15,\n",
       "        9.6946551e-10, 2.7170170e-15],\n",
       "       [1.7813801e-12, 3.6955573e-14, 1.4196470e-12, ..., 3.2049321e-17,\n",
       "        8.7582969e-16, 8.4791836e-17]], dtype=float32)"
      ]
     },
     "execution_count": 20,
     "metadata": {},
     "output_type": "execute_result"
    }
   ],
   "source": [
    "y_predict"
   ]
  },
  {
   "cell_type": "code",
   "execution_count": 21,
   "metadata": {},
   "outputs": [
    {
     "data": {
      "text/plain": [
       "7"
      ]
     },
     "execution_count": 21,
     "metadata": {},
     "output_type": "execute_result"
    }
   ],
   "source": [
    "np.argmax(y_predict[0])"
   ]
  },
  {
   "cell_type": "code",
   "execution_count": 22,
   "metadata": {},
   "outputs": [
    {
     "name": "stdout",
     "output_type": "stream",
     "text": [
      "[[ 971    1    1    1    1    0    3    1    1    0]\n",
      " [   0 1125    4    0    0    1    2    1    2    0]\n",
      " [   2    1 1016    2    0    0    2    6    3    0]\n",
      " [   0    0    1  998    0    2    0    3    3    3]\n",
      " [   1    0    3    1  963    0    2    2    2    8]\n",
      " [   2    0    0    6    1  868    7    1    5    2]\n",
      " [   6    2    2    1    6    4  936    0    1    0]\n",
      " [   1    4    8    2    0    0    0 1009    3    1]\n",
      " [   2    0    3    4    6    2    1    2  949    5]\n",
      " [   3    4    0    4    6    1    0    5    1  985]]\n"
     ]
    }
   ],
   "source": [
    "y_pred = []\n",
    "for val in y_predict:\n",
    "    y_pred.append(np.argmax(val))\n",
    "\n",
    "cm = metrics.confusion_matrix(ytest, y_pred)\n",
    "print(cm)"
   ]
  },
  {
   "cell_type": "code",
   "execution_count": null,
   "metadata": {},
   "outputs": [],
   "source": []
  }
 ],
 "metadata": {
  "kernelspec": {
   "display_name": "Python 3",
   "language": "python",
   "name": "python3"
  },
  "language_info": {
   "codemirror_mode": {
    "name": "ipython",
    "version": 3
   },
   "file_extension": ".py",
   "mimetype": "text/x-python",
   "name": "python",
   "nbconvert_exporter": "python",
   "pygments_lexer": "ipython3",
   "version": "3.7.7"
  }
 },
 "nbformat": 4,
 "nbformat_minor": 4
}
