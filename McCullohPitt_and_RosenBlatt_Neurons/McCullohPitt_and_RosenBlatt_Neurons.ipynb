{
  "nbformat": 4,
  "nbformat_minor": 0,
  "metadata": {
    "colab": {
      "name": "McCullohPitt_and_RosenBlatt_Neurons.ipynb",
      "provenance": [],
      "collapsed_sections": []
    },
    "kernelspec": {
      "name": "python3",
      "display_name": "Python 3"
    }
  },
  "cells": [
    {
      "cell_type": "markdown",
      "metadata": {
        "id": "m4rM211kRHyg"
      },
      "source": [
        "<h2>McCulloh Pitts Neuron </h2>"
      ]
    },
    {
      "cell_type": "code",
      "metadata": {
        "id": "WTche_IDMap5"
      },
      "source": [
        "from random import choice\r\n",
        "from numpy import array, dot, random\r\n",
        "import numpy as np"
      ],
      "execution_count": 1,
      "outputs": []
    },
    {
      "cell_type": "code",
      "metadata": {
        "id": "jJG6cM74Mx9P"
      },
      "source": [
        "#MCNeuron Neuron for AND Gate\r\n",
        "w = random.rand(2)\r\n",
        "w[1] = 1\r\n",
        "w[0] = 1\r\n",
        "\r\n",
        "training_data = [\r\n",
        "                 (array([0, 0]), 0),\r\n",
        "                 (array([0, 1]), 0),\r\n",
        "                 (array([1, 0]), 0),\r\n",
        "                 (array([1, 1]), 1),\r\n",
        "]\r\n",
        "\r\n",
        "step_function = lambda x: 0 if x < 2 else 1 #Step function with threshold of 1\r\n",
        "#No bias layer in this neuron"
      ],
      "execution_count": 2,
      "outputs": []
    },
    {
      "cell_type": "code",
      "metadata": {
        "colab": {
          "base_uri": "https://localhost:8080/"
        },
        "id": "7oYMUE60Omt8",
        "outputId": "e8375a86-f270-4781-9d1b-f4f7b53d6ba6"
      },
      "source": [
        "for x, _ in training_data:\r\n",
        "  result = dot(x, w)\r\n",
        "\r\n",
        "  print(\"{}: {} -> {}\".format(x[:2], result, step_function(result)))"
      ],
      "execution_count": 3,
      "outputs": [
        {
          "output_type": "stream",
          "text": [
            "[0 0]: 0.0 -> 0\n",
            "[0 1]: 1.0 -> 0\n",
            "[1 0]: 1.0 -> 0\n",
            "[1 1]: 2.0 -> 1\n"
          ],
          "name": "stdout"
        }
      ]
    },
    {
      "cell_type": "code",
      "metadata": {
        "id": "cu42tlMSPpML"
      },
      "source": [
        "# MCNeuron Neuron for OR Gate\r\n",
        "w = random.rand(2)\r\n",
        "w[1] = 1\r\n",
        "w[0] = 1\r\n",
        "\r\n",
        "training_data = [\r\n",
        "                 (array([0, 0]), 0),\r\n",
        "                 (array([0, 1]), 1),\r\n",
        "                 (array([1, 0]), 1),\r\n",
        "                 (array([1, 1]), 1),\r\n",
        "]\r\n",
        "\r\n",
        "step_function = lambda x: 0 if x < 1 else 1 #Step function with threshold of 1\r\n",
        "#No bias layer in this neuron"
      ],
      "execution_count": 4,
      "outputs": []
    },
    {
      "cell_type": "code",
      "metadata": {
        "colab": {
          "base_uri": "https://localhost:8080/"
        },
        "id": "SoNxHI92QPBW",
        "outputId": "d60b666a-f354-4697-93dc-2a1093a17358"
      },
      "source": [
        "for x, _ in training_data:\r\n",
        "  result = dot(x, w)\r\n",
        "\r\n",
        "  print(\"{}: {} -> {}\".format(x[:2], result, step_function(result)))"
      ],
      "execution_count": 5,
      "outputs": [
        {
          "output_type": "stream",
          "text": [
            "[0 0]: 0.0 -> 0\n",
            "[0 1]: 1.0 -> 1\n",
            "[1 0]: 1.0 -> 1\n",
            "[1 1]: 2.0 -> 1\n"
          ],
          "name": "stdout"
        }
      ]
    },
    {
      "cell_type": "markdown",
      "metadata": {
        "id": "G3_WlZ8BRdCw"
      },
      "source": [
        "<h2>Rosenblat's Neuron</h2>"
      ]
    },
    {
      "cell_type": "code",
      "metadata": {
        "colab": {
          "base_uri": "https://localhost:8080/"
        },
        "id": "EdbuWnhrQjAN",
        "outputId": "0e8353f8-7629-4b4c-fc6e-bf4da3dc1fd0"
      },
      "source": [
        "# Rosenblat's Neuron for AND Gate\r\n",
        "step_function = lambda x: 0 if x < 50 else 1 #step function with threshold of 0.5\r\n",
        "\r\n",
        "training_data = [\r\n",
        "            (array([0, 0, 1]), 0),\r\n",
        "            (array([0, 1, 1]), 0),\r\n",
        "            (array([1, 0, 1]), 0),\r\n",
        "            (array([1, 1, 1]), 1)\r\n",
        "]\r\n",
        "\r\n",
        "w = random.rand(3)\r\n",
        "b = .1\r\n",
        "errors = []\r\n",
        "eta = 0.1\r\n",
        "n = 10000\r\n",
        "\r\n",
        "for i in range(n):\r\n",
        "  x, expected = choice(training_data)\r\n",
        "\r\n",
        "  #w = np.append(w, b)\r\n",
        "\r\n",
        "  result = dot(w, x)\r\n",
        "  error = expected - step_function(result)\r\n",
        "  errors.append(error)\r\n",
        "  w += eta * error * x\r\n",
        "  \r\n",
        "for x, _ in training_data:\r\n",
        "  result = dot(x, w)\r\n",
        "  print(\"{}: {} -> {}\".format(x[:3], result, step_function(result)))\r\n",
        "\r\n",
        "  print(w)"
      ],
      "execution_count": 11,
      "outputs": [
        {
          "output_type": "stream",
          "text": [
            "[0 0 1]: 16.7892009263859 -> 0\n",
            "[16.7168035  16.70163771 16.78920093]\n",
            "[0 1 1]: 33.49083863333163 -> 0\n",
            "[16.7168035  16.70163771 16.78920093]\n",
            "[1 0 1]: 33.50600442883708 -> 0\n",
            "[16.7168035  16.70163771 16.78920093]\n",
            "[1 1 1]: 50.207642135782805 -> 1\n",
            "[16.7168035  16.70163771 16.78920093]\n"
          ],
          "name": "stdout"
        }
      ]
    },
    {
      "cell_type": "code",
      "metadata": {
        "colab": {
          "base_uri": "https://localhost:8080/"
        },
        "id": "bRg0uJG4X4ww",
        "outputId": "ba610179-b0d1-49c8-d354-cbd7cb4cd997"
      },
      "source": [
        "# Rosenblatt's Neuron for OR Gate\r\n",
        "step_function = lambda x: 0 if x < 50 else 1 #step function with threshold of 0.5\r\n",
        "\r\n",
        "training_data = [\r\n",
        "            (array([0, 0, 1]), 0),\r\n",
        "            (array([0, 1, 1]), 1),\r\n",
        "            (array([1, 0, 1]), 1),\r\n",
        "            (array([1, 1, 1]), 1)\r\n",
        "]\r\n",
        "\r\n",
        "w = random.rand(3)\r\n",
        "b = .1\r\n",
        "errors = []\r\n",
        "eta = 0.1\r\n",
        "n = 10000\r\n",
        "\r\n",
        "for i in range(n):\r\n",
        "  x, expected = choice(training_data)\r\n",
        "\r\n",
        "  #w = np.append(w, b)\r\n",
        "\r\n",
        "  result = dot(w, x)\r\n",
        "  error = expected - step_function(result)\r\n",
        "  errors.append(error)\r\n",
        "  w += eta * error * x\r\n",
        "  \r\n",
        "for x, _ in training_data:\r\n",
        "  result = dot(x, w)\r\n",
        "  print(\"{}: {} -> {}\".format(x[:3], result, step_function(result)))\r\n",
        "\r\n",
        "  print(w)"
      ],
      "execution_count": 12,
      "outputs": [
        {
          "output_type": "stream",
          "text": [
            "[0 0 1]: 31.12101702068867 -> 0\n",
            "[19.15467768 19.02416638 31.12101702]\n",
            "[0 1 1]: 50.14518339678794 -> 1\n",
            "[19.15467768 19.02416638 31.12101702]\n",
            "[1 0 1]: 50.27569470479207 -> 1\n",
            "[19.15467768 19.02416638 31.12101702]\n",
            "[1 1 1]: 69.29986108089135 -> 1\n",
            "[19.15467768 19.02416638 31.12101702]\n"
          ],
          "name": "stdout"
        }
      ]
    },
    {
      "cell_type": "code",
      "metadata": {
        "colab": {
          "base_uri": "https://localhost:8080/"
        },
        "id": "75Hdwb-hYrCg",
        "outputId": "9b9a1a2f-f85e-4d75-d526-c44f8200ba4f"
      },
      "source": [
        "# Rosenblatt's Neuron for XOR Gate\r\n",
        "step_function = lambda x: 0 if x < 50 else 1 #step function with threshold of 0.5\r\n",
        "\r\n",
        "training_data = [\r\n",
        "            (array([0, 0, 1]), 1),\r\n",
        "            (array([0, 1, 1]), 0),\r\n",
        "            (array([1, 0, 1]), 0),\r\n",
        "            (array([1, 1, 1]), 1)\r\n",
        "]\r\n",
        "\r\n",
        "w = random.rand(3)\r\n",
        "b = .1\r\n",
        "errors = []\r\n",
        "eta = 0.1\r\n",
        "n = 10000\r\n",
        "\r\n",
        "for i in range(n):\r\n",
        "  x, expected = choice(training_data)\r\n",
        "\r\n",
        "  #w = np.append(w, b)\r\n",
        "\r\n",
        "  result = dot(w, x)\r\n",
        "  error = expected - step_function(result)\r\n",
        "  errors.append(error)\r\n",
        "  w += eta * error * x\r\n",
        "  \r\n",
        "for x, _ in training_data:\r\n",
        "  result = dot(x, w)\r\n",
        "  print(\"{}: {} -> {}\".format(x[:3], result, step_function(result)))\r\n",
        "\r\n",
        "  print(w)\r\n",
        "  #never right answer"
      ],
      "execution_count": 21,
      "outputs": [
        {
          "output_type": "stream",
          "text": [
            "[0 0 1]: 50.06958370714038 -> 1\n",
            "[ 0.06948384  0.10280959 50.06958371]\n",
            "[0 1 1]: 50.172393292662505 -> 1\n",
            "[ 0.06948384  0.10280959 50.06958371]\n",
            "[1 0 1]: 50.13906754658277 -> 1\n",
            "[ 0.06948384  0.10280959 50.06958371]\n",
            "[1 1 1]: 50.2418771321049 -> 1\n",
            "[ 0.06948384  0.10280959 50.06958371]\n"
          ],
          "name": "stdout"
        }
      ]
    },
    {
      "cell_type": "code",
      "metadata": {
        "id": "oHDQZkilZmHH"
      },
      "source": [
        ""
      ],
      "execution_count": null,
      "outputs": []
    }
  ]
}